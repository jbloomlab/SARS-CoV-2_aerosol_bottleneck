{
 "cells": [
  {
   "cell_type": "code",
   "execution_count": 1,
   "id": "59752c64",
   "metadata": {},
   "outputs": [],
   "source": [
    "from utils import ftp_upload\n",
    "import yaml\n",
    "import os\n",
    "import pandas as pd"
   ]
  },
  {
   "cell_type": "markdown",
   "id": "c3335af1",
   "metadata": {},
   "source": [
    "# Uploading your sequencing runs to the SRA\n",
    "\n",
    "Before publishing your study, you must make the raw sequencing runs available. This notebook contains the instructions and code for uploading these `fastq` files to the [NCBI Sequence Read Archive](https://www.ncbi.nlm.nih.gov/sra)."
   ]
  },
  {
   "cell_type": "markdown",
   "id": "c6da75c8",
   "metadata": {},
   "source": [
    "The recommended way to organize your experiments on the SRA is as follows:\n",
    "\n",
    "```\n",
    "BioProject: Measles isolated from a case of Subacute Sclerosing Panencephalitis (SSPE)\n",
    "|\n",
    "|___BioSamples: Illumina runs for 15 brain tissue samples isolated from the autopsy of a patient with SSPE\n",
    "\t|\n",
    "\t|___SRA Experiments: Each individual tissue sample (paired-end)\n",
    "```\n",
    "\n",
    "This structure is in keeping with the scheme used in Tyler's and Allie's Yeast Display DMS projects like this one [here](https://www.ncbi.nlm.nih.gov/bioproject/PRJNA639956). You can see what this looks like for an individual run from it's [`BioProject`](https://www.ncbi.nlm.nih.gov/bioproject/PRJNA639956) >> to it's [`BioSample`](https://www.ncbi.nlm.nih.gov/biosample/19925005) >> and finally, the [`SRA Run`](https://www.ncbi.nlm.nih.gov/sra/SRX11291810[accn]) itself.\n"
   ]
  },
  {
   "cell_type": "markdown",
   "id": "9009a5f6",
   "metadata": {},
   "source": [
    "**Note:** *The instructions below are applicable whether you have a new variant library for which a* `BioProject` *doesn't exist, or whether you are uploading a new* `BioSample` *to an existing* `BioProject`."
   ]
  },
  {
   "cell_type": "markdown",
   "id": "6af746f5",
   "metadata": {},
   "source": [
    "---"
   ]
  },
  {
   "cell_type": "markdown",
   "id": "599248a3",
   "metadata": {},
   "source": [
    "<details>\n",
    "  \n",
    "  <summary>\n",
    "      <h1>&#9758; Click to Create the BioProject</h1>\n",
    "  </summary>\n",
    "    \n",
    "*If you haven't yet created a* `BioProject` *for this Variant Library, follow the instructions here.* \n",
    "    \n",
    "First, go to the [SRA Submission Portal](https://submit.ncbi.nlm.nih.gov/subs/) and login. Once logged into the submission portal, click on **`BioProject`** and click on the blue **`New Submission`** button. \n",
    "    \n",
    "When you click this button, you will be prompted to fill out the **`Submitter`** information, do so. After this, you'll fill out the **`Project Type`** information, for **`Project Data Type`**, select `Raw sequence reads`. and for **`Sample scope`** select `Synthetic`. Fill in the **`Target`** and **`General Info`** pages with applicable information describing your library. For **`BioSample`** do not add anything, just hit **`Continue`**. \n",
    "    \n",
    "After you've filled out each of the fields, check that the information is correct and submit the new BioProject. It can take a bit for the project to be added and get a BioProject Accession. \n",
    "  \n",
    "</details>"
   ]
  },
  {
   "cell_type": "markdown",
   "id": "c0f4ffb4",
   "metadata": {},
   "source": [
    "<p><strong>If you haven't yet created a </strong><code>BioProject</code><strong> for your variant library, click the pointing finger ( &#9758; ) to see how to set this up.</strong></p>"
   ]
  },
  {
   "cell_type": "code",
   "execution_count": 3,
   "id": "f33bc914",
   "metadata": {},
   "outputs": [],
   "source": [
    "# After you've created the BioProject,\n",
    "# or if you already have a BioProject that you'd like to add to,\n",
    "# put the correct Accession here.\n",
    "\n",
    "BioProject_ID = \"PRJNA1071684\""
   ]
  },
  {
   "cell_type": "markdown",
   "id": "716f695e",
   "metadata": {},
   "source": [
    "---\n",
    "# Create the BioSample for your Barcodes\n",
    "\n",
    "**Otherwise, if your** `BioProject` **already exists and you are uploading barcode runs, start with these instructions.**\n",
    "\n",
    "First, go to the [SRA Submission Portal](https://submit.ncbi.nlm.nih.gov/subs/) and login.\n",
    "\n",
    "Then under the **`Start a new submission`** banner, click **`BioSample`** to create a new BioSample. You are now on a page that has a blue **`New Submission`** button, which you should select. This will bring you to a page with some Submitter information; check that it is correct and then hit **`Continue`**. \n",
    "\n",
    "You will then be on the **`General Information`** page. Select when to release the submission to the public (*generally, immediately is OK*). Then click that you are uploading a `Single BioSample` and hit **`Continue`**.\n",
    "\n",
    "You will now be at the **`Sample Type`** page, and you have to select the package that best describes the submission. Click `Pathogen` and `clinical, or host associated`. Then click **`Continue`**. \n",
    "\n",
    "Now, you will enter the sample attributes. For the sample name, provide a short name that describes the sample. Also provide the rest of the information by editing the first section of the [`config.yml`](config.yml) in this directory. **Run the cell below to check what you've set and will need to add to the SRA.** "
   ]
  },
  {
   "cell_type": "code",
   "execution_count": 4,
   "id": "76fc768c",
   "metadata": {},
   "outputs": [
    {
     "name": "stdout",
     "output_type": "stream",
     "text": [
      "organism: 'SARS-CoV-2'\n",
      "strain: 'hCoV-19/HongKong/VM20109236/2020'\n",
      "collected_by: 'Hui-Ling Yen'\n",
      "collection_date: '2020'\n",
      "host: 'Syrian Hamster'\n",
      "host_disease: 'COVID-19'\n",
      "isolation_source: 'nasal'\n"
     ]
    }
   ],
   "source": [
    "with open('config.yml') as f:\n",
    "    config = yaml.safe_load(f)\n",
    "\n",
    "for k,v in config['attributes'].items():\n",
    "    print(f\"{k}: '{v}'\")"
   ]
  },
  {
   "cell_type": "markdown",
   "id": "04c87bec",
   "metadata": {},
   "source": [
    "Then hit **`Continue`**.\n",
    "\n",
    "You will now be on the page to specify the `BioProject`. You should either be adding to an existing BioProject, or have created a new on according to the instructions above. Enter the correct ID in the format of `PRJNAXXXXXX` as the **`Existing BioProject`** and hit **`Continue`**.\n",
    "\n",
    "Finally, add a sample title. Then hit **`Continue`**, make sure everything looks correct, then hit **`Submit`**.\n",
    "\n",
    "After a brief bit of processing, the `BioSample` submission should show up, along with a sample accession that will be in the format of `SAMNXXXXXXX`. Add this sample accession to [`config.yml`](config.yml) as the value for the `accession` key under the `runs` key."
   ]
  },
  {
   "cell_type": "code",
   "execution_count": 5,
   "id": "a285646b",
   "metadata": {
    "scrolled": true
   },
   "outputs": [
    {
     "name": "stdout",
     "output_type": "stream",
     "text": [
      "The BioSample accession for these Illumina Barcode runs is: SAMN39709134\n",
      "The BioProject accession for these Illumina Barcode runs is: PRJNA1071684\n"
     ]
    }
   ],
   "source": [
    "with open('config.yml') as f:\n",
    "    config = yaml.safe_load(f)\n",
    "print(f\"The BioSample accession for these Illumina Barcode runs is: {config['runs']['accession']}\")\n",
    "print(f\"The BioProject accession for these Illumina Barcode runs is: {BioProject_ID}\")"
   ]
  },
  {
   "cell_type": "markdown",
   "id": "39e190a9",
   "metadata": {},
   "source": [
    "---\n",
    "## Upload the sequencing data\n",
    "\n",
    "Go back to the [SRA Submission Portal](https://submit.ncbi.nlm.nih.gov/subs/) and login again. This time, under the **`Start a new submission banner`**, click **`Sequence Read Archive`** to upload the actual sequencing data.\n",
    "\n",
    "You are now on a page with a **`New submission`** button, which you should click. Check that the submitter information is correct, then click **`Continue`**.\n",
    "\n",
    "You will now be at the **`General Information`** page. We are adding to an existing `BioProject`, so enter the correct `BioProject` accession as the **`Existing BioProject`**. Then for the question of whether you already registered a `BioSample`, also select yes. Then select a Release Date depending on whether you want to release the results immediately (*usually fine*) or at some future date. Then click **`Continue`**.\n",
    "\n",
    "You will now be at a page that asks how you want to provide the `SRA Metadata`. Click to Upload a file. The next section describes how to create this table."
   ]
  },
  {
   "cell_type": "markdown",
   "id": "1f259d55",
   "metadata": {},
   "source": [
    "---\n",
    "## Create SRA metadata submission table\n",
    "\n",
    "To create the SRA metadata submission table for the Illumina Barcode runs, you'll edit the values under the `barcode_runs` key in the [`config.yml`](config.yml) file in this directory. \n",
    "\n",
    "Most of the values should be self explanatory, however, for the key `sample_id_columns`, choose the columns that should be concatenated in order to make a unique `library_ID` for the submission. **The order of the columns matters**. \n",
    "\n",
    "After you've edited the [`config.yml`](config.yml) file, run the cell below to double-check that the values are correct. "
   ]
  },
  {
   "cell_type": "code",
   "execution_count": 6,
   "id": "d5f98ba5",
   "metadata": {},
   "outputs": [
    {
     "name": "stdout",
     "output_type": "stream",
     "text": [
      "accession: SAMN39709134\n",
      " sample_id_columns: ['Animal', 'Pair', 'Experiment', 'Condition', 'DPI', 'DPC', 'Replicate']\n",
      " title_prefix: Illumina sequencing of SARS-CoV-2 amlified RNA\n",
      " description: Illumina sequencing from SARS-CoV-2 infected Syrian Hamster nasal samples\n",
      " strategy: RNA-Seq\n",
      " source: VIRAL RNA\n",
      " selection: PCR\n",
      " layout: paired\n",
      " platform: ILLUMINA\n",
      " model: Illumina iSeq 100\n",
      "\n"
     ]
    }
   ],
   "source": [
    "with open('config.yml') as f:\n",
    "    config = yaml.safe_load(f)\n",
    "\n",
    "print(*[f\"{k}: {v}\\n\" for k,v in config['runs'].items() if k != \"ftp_subfolder\"])"
   ]
  },
  {
   "cell_type": "markdown",
   "id": "456bbbea",
   "metadata": {},
   "source": [
    "If these values look correct, go ahead and make two files:\n",
    "\n",
    "1. A file called `SRA_metadata.tsv` for the Illumina Barcode runs that you're including in this `BioSample` submission. This file should follow the format that SRA provides. \n",
    "\n",
    "2. A file called `fasta_files.csv` that contains a filename_fullpath and filename column. \n",
    "\n",
    "**Check that the table looks like you expect it to!**"
   ]
  },
  {
   "cell_type": "code",
   "execution_count": 7,
   "id": "a57a21f0",
   "metadata": {},
   "outputs": [],
   "source": [
    "path_to_sequencing_data = \"../results/filtered/\"\n",
    "\n",
    "\n",
    "# Lists to store full paths and filenames\n",
    "fullpaths = []\n",
    "filenames = []\n",
    "\n",
    "# Walk through the directory structure\n",
    "for dirpath, dirnames, files in os.walk(path_to_sequencing_data):\n",
    "    for filename in files:\n",
    "        if filename.endswith('R1.fastq.gz') or filename.endswith('R2.fastq.gz'):\n",
    "            dirname = os.path.basename(dirpath)  # get the name of the parent directory\n",
    "            fullpath = os.path.join(\"/fh/fast/bloom_j/computational_notebooks/whannon/2022/MeV_SSPE_Dynamics/results/filtered\", dirname, filename)\n",
    "            fullpaths.append(fullpath)\n",
    "            filenames.append(filename)\n",
    "\n",
    "\n",
    "# Create a DataFrame\n",
    "df = pd.DataFrame({\n",
    "    'filename_fullpath': fullpaths,\n",
    "    'filename': filenames\n",
    "})\n",
    "\n",
    "# Write to a CSV file\n",
    "df.to_csv('file_paths.csv', index=False)\n"
   ]
  },
  {
   "cell_type": "code",
   "execution_count": 8,
   "id": "b81eba3a",
   "metadata": {},
   "outputs": [
    {
     "ename": "FileNotFoundError",
     "evalue": "[Errno 2] No such file or directory: 'SRA_metadata.tsv'",
     "output_type": "error",
     "traceback": [
      "\u001b[0;31m---------------------------------------------------------------------------\u001b[0m",
      "\u001b[0;31mFileNotFoundError\u001b[0m                         Traceback (most recent call last)",
      "Cell \u001b[0;32mIn [8], line 1\u001b[0m\n\u001b[0;32m----> 1\u001b[0m SRA_metadata \u001b[38;5;241m=\u001b[39m \u001b[43mpd\u001b[49m\u001b[38;5;241;43m.\u001b[39;49m\u001b[43mread_csv\u001b[49m\u001b[43m(\u001b[49m\u001b[38;5;124;43m\"\u001b[39;49m\u001b[38;5;124;43mSRA_metadata.tsv\u001b[39;49m\u001b[38;5;124;43m\"\u001b[39;49m\u001b[43m,\u001b[49m\u001b[43m \u001b[49m\u001b[43msep\u001b[49m\u001b[38;5;241;43m=\u001b[39;49m\u001b[38;5;124;43m\"\u001b[39;49m\u001b[38;5;130;43;01m\\t\u001b[39;49;00m\u001b[38;5;124;43m\"\u001b[39;49m\u001b[43m)\u001b[49m\n\u001b[1;32m      2\u001b[0m SRA_metadata\u001b[38;5;241m.\u001b[39mhead()\n",
      "File \u001b[0;32m~/miniconda3/envs/hamster-deepseq/lib/python3.9/site-packages/pandas/util/_decorators.py:311\u001b[0m, in \u001b[0;36mdeprecate_nonkeyword_arguments.<locals>.decorate.<locals>.wrapper\u001b[0;34m(*args, **kwargs)\u001b[0m\n\u001b[1;32m    305\u001b[0m \u001b[38;5;28;01mif\u001b[39;00m \u001b[38;5;28mlen\u001b[39m(args) \u001b[38;5;241m>\u001b[39m num_allow_args:\n\u001b[1;32m    306\u001b[0m     warnings\u001b[38;5;241m.\u001b[39mwarn(\n\u001b[1;32m    307\u001b[0m         msg\u001b[38;5;241m.\u001b[39mformat(arguments\u001b[38;5;241m=\u001b[39marguments),\n\u001b[1;32m    308\u001b[0m         \u001b[38;5;167;01mFutureWarning\u001b[39;00m,\n\u001b[1;32m    309\u001b[0m         stacklevel\u001b[38;5;241m=\u001b[39mstacklevel,\n\u001b[1;32m    310\u001b[0m     )\n\u001b[0;32m--> 311\u001b[0m \u001b[38;5;28;01mreturn\u001b[39;00m \u001b[43mfunc\u001b[49m\u001b[43m(\u001b[49m\u001b[38;5;241;43m*\u001b[39;49m\u001b[43margs\u001b[49m\u001b[43m,\u001b[49m\u001b[43m \u001b[49m\u001b[38;5;241;43m*\u001b[39;49m\u001b[38;5;241;43m*\u001b[39;49m\u001b[43mkwargs\u001b[49m\u001b[43m)\u001b[49m\n",
      "File \u001b[0;32m~/miniconda3/envs/hamster-deepseq/lib/python3.9/site-packages/pandas/io/parsers/readers.py:678\u001b[0m, in \u001b[0;36mread_csv\u001b[0;34m(filepath_or_buffer, sep, delimiter, header, names, index_col, usecols, squeeze, prefix, mangle_dupe_cols, dtype, engine, converters, true_values, false_values, skipinitialspace, skiprows, skipfooter, nrows, na_values, keep_default_na, na_filter, verbose, skip_blank_lines, parse_dates, infer_datetime_format, keep_date_col, date_parser, dayfirst, cache_dates, iterator, chunksize, compression, thousands, decimal, lineterminator, quotechar, quoting, doublequote, escapechar, comment, encoding, encoding_errors, dialect, error_bad_lines, warn_bad_lines, on_bad_lines, delim_whitespace, low_memory, memory_map, float_precision, storage_options)\u001b[0m\n\u001b[1;32m    663\u001b[0m kwds_defaults \u001b[38;5;241m=\u001b[39m _refine_defaults_read(\n\u001b[1;32m    664\u001b[0m     dialect,\n\u001b[1;32m    665\u001b[0m     delimiter,\n\u001b[0;32m   (...)\u001b[0m\n\u001b[1;32m    674\u001b[0m     defaults\u001b[38;5;241m=\u001b[39m{\u001b[38;5;124m\"\u001b[39m\u001b[38;5;124mdelimiter\u001b[39m\u001b[38;5;124m\"\u001b[39m: \u001b[38;5;124m\"\u001b[39m\u001b[38;5;124m,\u001b[39m\u001b[38;5;124m\"\u001b[39m},\n\u001b[1;32m    675\u001b[0m )\n\u001b[1;32m    676\u001b[0m kwds\u001b[38;5;241m.\u001b[39mupdate(kwds_defaults)\n\u001b[0;32m--> 678\u001b[0m \u001b[38;5;28;01mreturn\u001b[39;00m \u001b[43m_read\u001b[49m\u001b[43m(\u001b[49m\u001b[43mfilepath_or_buffer\u001b[49m\u001b[43m,\u001b[49m\u001b[43m \u001b[49m\u001b[43mkwds\u001b[49m\u001b[43m)\u001b[49m\n",
      "File \u001b[0;32m~/miniconda3/envs/hamster-deepseq/lib/python3.9/site-packages/pandas/io/parsers/readers.py:575\u001b[0m, in \u001b[0;36m_read\u001b[0;34m(filepath_or_buffer, kwds)\u001b[0m\n\u001b[1;32m    572\u001b[0m _validate_names(kwds\u001b[38;5;241m.\u001b[39mget(\u001b[38;5;124m\"\u001b[39m\u001b[38;5;124mnames\u001b[39m\u001b[38;5;124m\"\u001b[39m, \u001b[38;5;28;01mNone\u001b[39;00m))\n\u001b[1;32m    574\u001b[0m \u001b[38;5;66;03m# Create the parser.\u001b[39;00m\n\u001b[0;32m--> 575\u001b[0m parser \u001b[38;5;241m=\u001b[39m \u001b[43mTextFileReader\u001b[49m\u001b[43m(\u001b[49m\u001b[43mfilepath_or_buffer\u001b[49m\u001b[43m,\u001b[49m\u001b[43m \u001b[49m\u001b[38;5;241;43m*\u001b[39;49m\u001b[38;5;241;43m*\u001b[39;49m\u001b[43mkwds\u001b[49m\u001b[43m)\u001b[49m\n\u001b[1;32m    577\u001b[0m \u001b[38;5;28;01mif\u001b[39;00m chunksize \u001b[38;5;129;01mor\u001b[39;00m iterator:\n\u001b[1;32m    578\u001b[0m     \u001b[38;5;28;01mreturn\u001b[39;00m parser\n",
      "File \u001b[0;32m~/miniconda3/envs/hamster-deepseq/lib/python3.9/site-packages/pandas/io/parsers/readers.py:932\u001b[0m, in \u001b[0;36mTextFileReader.__init__\u001b[0;34m(self, f, engine, **kwds)\u001b[0m\n\u001b[1;32m    929\u001b[0m     \u001b[38;5;28mself\u001b[39m\u001b[38;5;241m.\u001b[39moptions[\u001b[38;5;124m\"\u001b[39m\u001b[38;5;124mhas_index_names\u001b[39m\u001b[38;5;124m\"\u001b[39m] \u001b[38;5;241m=\u001b[39m kwds[\u001b[38;5;124m\"\u001b[39m\u001b[38;5;124mhas_index_names\u001b[39m\u001b[38;5;124m\"\u001b[39m]\n\u001b[1;32m    931\u001b[0m \u001b[38;5;28mself\u001b[39m\u001b[38;5;241m.\u001b[39mhandles: IOHandles \u001b[38;5;241m|\u001b[39m \u001b[38;5;28;01mNone\u001b[39;00m \u001b[38;5;241m=\u001b[39m \u001b[38;5;28;01mNone\u001b[39;00m\n\u001b[0;32m--> 932\u001b[0m \u001b[38;5;28mself\u001b[39m\u001b[38;5;241m.\u001b[39m_engine \u001b[38;5;241m=\u001b[39m \u001b[38;5;28;43mself\u001b[39;49m\u001b[38;5;241;43m.\u001b[39;49m\u001b[43m_make_engine\u001b[49m\u001b[43m(\u001b[49m\u001b[43mf\u001b[49m\u001b[43m,\u001b[49m\u001b[43m \u001b[49m\u001b[38;5;28;43mself\u001b[39;49m\u001b[38;5;241;43m.\u001b[39;49m\u001b[43mengine\u001b[49m\u001b[43m)\u001b[49m\n",
      "File \u001b[0;32m~/miniconda3/envs/hamster-deepseq/lib/python3.9/site-packages/pandas/io/parsers/readers.py:1216\u001b[0m, in \u001b[0;36mTextFileReader._make_engine\u001b[0;34m(self, f, engine)\u001b[0m\n\u001b[1;32m   1212\u001b[0m     mode \u001b[38;5;241m=\u001b[39m \u001b[38;5;124m\"\u001b[39m\u001b[38;5;124mrb\u001b[39m\u001b[38;5;124m\"\u001b[39m\n\u001b[1;32m   1213\u001b[0m \u001b[38;5;66;03m# error: No overload variant of \"get_handle\" matches argument types\u001b[39;00m\n\u001b[1;32m   1214\u001b[0m \u001b[38;5;66;03m# \"Union[str, PathLike[str], ReadCsvBuffer[bytes], ReadCsvBuffer[str]]\"\u001b[39;00m\n\u001b[1;32m   1215\u001b[0m \u001b[38;5;66;03m# , \"str\", \"bool\", \"Any\", \"Any\", \"Any\", \"Any\", \"Any\"\u001b[39;00m\n\u001b[0;32m-> 1216\u001b[0m \u001b[38;5;28mself\u001b[39m\u001b[38;5;241m.\u001b[39mhandles \u001b[38;5;241m=\u001b[39m \u001b[43mget_handle\u001b[49m\u001b[43m(\u001b[49m\u001b[43m  \u001b[49m\u001b[38;5;66;43;03m# type: ignore[call-overload]\u001b[39;49;00m\n\u001b[1;32m   1217\u001b[0m \u001b[43m    \u001b[49m\u001b[43mf\u001b[49m\u001b[43m,\u001b[49m\n\u001b[1;32m   1218\u001b[0m \u001b[43m    \u001b[49m\u001b[43mmode\u001b[49m\u001b[43m,\u001b[49m\n\u001b[1;32m   1219\u001b[0m \u001b[43m    \u001b[49m\u001b[43mencoding\u001b[49m\u001b[38;5;241;43m=\u001b[39;49m\u001b[38;5;28;43mself\u001b[39;49m\u001b[38;5;241;43m.\u001b[39;49m\u001b[43moptions\u001b[49m\u001b[38;5;241;43m.\u001b[39;49m\u001b[43mget\u001b[49m\u001b[43m(\u001b[49m\u001b[38;5;124;43m\"\u001b[39;49m\u001b[38;5;124;43mencoding\u001b[39;49m\u001b[38;5;124;43m\"\u001b[39;49m\u001b[43m,\u001b[49m\u001b[43m \u001b[49m\u001b[38;5;28;43;01mNone\u001b[39;49;00m\u001b[43m)\u001b[49m\u001b[43m,\u001b[49m\n\u001b[1;32m   1220\u001b[0m \u001b[43m    \u001b[49m\u001b[43mcompression\u001b[49m\u001b[38;5;241;43m=\u001b[39;49m\u001b[38;5;28;43mself\u001b[39;49m\u001b[38;5;241;43m.\u001b[39;49m\u001b[43moptions\u001b[49m\u001b[38;5;241;43m.\u001b[39;49m\u001b[43mget\u001b[49m\u001b[43m(\u001b[49m\u001b[38;5;124;43m\"\u001b[39;49m\u001b[38;5;124;43mcompression\u001b[39;49m\u001b[38;5;124;43m\"\u001b[39;49m\u001b[43m,\u001b[49m\u001b[43m \u001b[49m\u001b[38;5;28;43;01mNone\u001b[39;49;00m\u001b[43m)\u001b[49m\u001b[43m,\u001b[49m\n\u001b[1;32m   1221\u001b[0m \u001b[43m    \u001b[49m\u001b[43mmemory_map\u001b[49m\u001b[38;5;241;43m=\u001b[39;49m\u001b[38;5;28;43mself\u001b[39;49m\u001b[38;5;241;43m.\u001b[39;49m\u001b[43moptions\u001b[49m\u001b[38;5;241;43m.\u001b[39;49m\u001b[43mget\u001b[49m\u001b[43m(\u001b[49m\u001b[38;5;124;43m\"\u001b[39;49m\u001b[38;5;124;43mmemory_map\u001b[39;49m\u001b[38;5;124;43m\"\u001b[39;49m\u001b[43m,\u001b[49m\u001b[43m \u001b[49m\u001b[38;5;28;43;01mFalse\u001b[39;49;00m\u001b[43m)\u001b[49m\u001b[43m,\u001b[49m\n\u001b[1;32m   1222\u001b[0m \u001b[43m    \u001b[49m\u001b[43mis_text\u001b[49m\u001b[38;5;241;43m=\u001b[39;49m\u001b[43mis_text\u001b[49m\u001b[43m,\u001b[49m\n\u001b[1;32m   1223\u001b[0m \u001b[43m    \u001b[49m\u001b[43merrors\u001b[49m\u001b[38;5;241;43m=\u001b[39;49m\u001b[38;5;28;43mself\u001b[39;49m\u001b[38;5;241;43m.\u001b[39;49m\u001b[43moptions\u001b[49m\u001b[38;5;241;43m.\u001b[39;49m\u001b[43mget\u001b[49m\u001b[43m(\u001b[49m\u001b[38;5;124;43m\"\u001b[39;49m\u001b[38;5;124;43mencoding_errors\u001b[39;49m\u001b[38;5;124;43m\"\u001b[39;49m\u001b[43m,\u001b[49m\u001b[43m \u001b[49m\u001b[38;5;124;43m\"\u001b[39;49m\u001b[38;5;124;43mstrict\u001b[39;49m\u001b[38;5;124;43m\"\u001b[39;49m\u001b[43m)\u001b[49m\u001b[43m,\u001b[49m\n\u001b[1;32m   1224\u001b[0m \u001b[43m    \u001b[49m\u001b[43mstorage_options\u001b[49m\u001b[38;5;241;43m=\u001b[39;49m\u001b[38;5;28;43mself\u001b[39;49m\u001b[38;5;241;43m.\u001b[39;49m\u001b[43moptions\u001b[49m\u001b[38;5;241;43m.\u001b[39;49m\u001b[43mget\u001b[49m\u001b[43m(\u001b[49m\u001b[38;5;124;43m\"\u001b[39;49m\u001b[38;5;124;43mstorage_options\u001b[39;49m\u001b[38;5;124;43m\"\u001b[39;49m\u001b[43m,\u001b[49m\u001b[43m \u001b[49m\u001b[38;5;28;43;01mNone\u001b[39;49;00m\u001b[43m)\u001b[49m\u001b[43m,\u001b[49m\n\u001b[1;32m   1225\u001b[0m \u001b[43m\u001b[49m\u001b[43m)\u001b[49m\n\u001b[1;32m   1226\u001b[0m \u001b[38;5;28;01massert\u001b[39;00m \u001b[38;5;28mself\u001b[39m\u001b[38;5;241m.\u001b[39mhandles \u001b[38;5;129;01mis\u001b[39;00m \u001b[38;5;129;01mnot\u001b[39;00m \u001b[38;5;28;01mNone\u001b[39;00m\n\u001b[1;32m   1227\u001b[0m f \u001b[38;5;241m=\u001b[39m \u001b[38;5;28mself\u001b[39m\u001b[38;5;241m.\u001b[39mhandles\u001b[38;5;241m.\u001b[39mhandle\n",
      "File \u001b[0;32m~/miniconda3/envs/hamster-deepseq/lib/python3.9/site-packages/pandas/io/common.py:786\u001b[0m, in \u001b[0;36mget_handle\u001b[0;34m(path_or_buf, mode, encoding, compression, memory_map, is_text, errors, storage_options)\u001b[0m\n\u001b[1;32m    781\u001b[0m \u001b[38;5;28;01melif\u001b[39;00m \u001b[38;5;28misinstance\u001b[39m(handle, \u001b[38;5;28mstr\u001b[39m):\n\u001b[1;32m    782\u001b[0m     \u001b[38;5;66;03m# Check whether the filename is to be opened in binary mode.\u001b[39;00m\n\u001b[1;32m    783\u001b[0m     \u001b[38;5;66;03m# Binary mode does not support 'encoding' and 'newline'.\u001b[39;00m\n\u001b[1;32m    784\u001b[0m     \u001b[38;5;28;01mif\u001b[39;00m ioargs\u001b[38;5;241m.\u001b[39mencoding \u001b[38;5;129;01mand\u001b[39;00m \u001b[38;5;124m\"\u001b[39m\u001b[38;5;124mb\u001b[39m\u001b[38;5;124m\"\u001b[39m \u001b[38;5;129;01mnot\u001b[39;00m \u001b[38;5;129;01min\u001b[39;00m ioargs\u001b[38;5;241m.\u001b[39mmode:\n\u001b[1;32m    785\u001b[0m         \u001b[38;5;66;03m# Encoding\u001b[39;00m\n\u001b[0;32m--> 786\u001b[0m         handle \u001b[38;5;241m=\u001b[39m \u001b[38;5;28;43mopen\u001b[39;49m\u001b[43m(\u001b[49m\n\u001b[1;32m    787\u001b[0m \u001b[43m            \u001b[49m\u001b[43mhandle\u001b[49m\u001b[43m,\u001b[49m\n\u001b[1;32m    788\u001b[0m \u001b[43m            \u001b[49m\u001b[43mioargs\u001b[49m\u001b[38;5;241;43m.\u001b[39;49m\u001b[43mmode\u001b[49m\u001b[43m,\u001b[49m\n\u001b[1;32m    789\u001b[0m \u001b[43m            \u001b[49m\u001b[43mencoding\u001b[49m\u001b[38;5;241;43m=\u001b[39;49m\u001b[43mioargs\u001b[49m\u001b[38;5;241;43m.\u001b[39;49m\u001b[43mencoding\u001b[49m\u001b[43m,\u001b[49m\n\u001b[1;32m    790\u001b[0m \u001b[43m            \u001b[49m\u001b[43merrors\u001b[49m\u001b[38;5;241;43m=\u001b[39;49m\u001b[43merrors\u001b[49m\u001b[43m,\u001b[49m\n\u001b[1;32m    791\u001b[0m \u001b[43m            \u001b[49m\u001b[43mnewline\u001b[49m\u001b[38;5;241;43m=\u001b[39;49m\u001b[38;5;124;43m\"\u001b[39;49m\u001b[38;5;124;43m\"\u001b[39;49m\u001b[43m,\u001b[49m\n\u001b[1;32m    792\u001b[0m \u001b[43m        \u001b[49m\u001b[43m)\u001b[49m\n\u001b[1;32m    793\u001b[0m     \u001b[38;5;28;01melse\u001b[39;00m:\n\u001b[1;32m    794\u001b[0m         \u001b[38;5;66;03m# Binary mode\u001b[39;00m\n\u001b[1;32m    795\u001b[0m         handle \u001b[38;5;241m=\u001b[39m \u001b[38;5;28mopen\u001b[39m(handle, ioargs\u001b[38;5;241m.\u001b[39mmode)\n",
      "\u001b[0;31mFileNotFoundError\u001b[0m: [Errno 2] No such file or directory: 'SRA_metadata.tsv'"
     ]
    }
   ],
   "source": [
    "SRA_metadata = pd.read_csv(\"SRA_metadata.tsv\", sep=\"\\t\")\n",
    "SRA_metadata.head()"
   ]
  },
  {
   "cell_type": "markdown",
   "id": "869152c5",
   "metadata": {},
   "source": [
    "---\n",
    "## Upload the submission table\n",
    "\n",
    "Now return to the [SRA Submission Portal](https://submit.ncbi.nlm.nih.gov/subs/sra/) webpage, and if needed navigate back to your submission. You should still be at the **`SRA Metadata`** step, and see a **`Choose file`** box to upload your `barcode_SRA_metadata.tsv` file that you just created in the step above. Then click **`Continue`**.\n",
    "\n",
    "After a little while, you should now get a page (**`Files`**) that asks you how you want to upload the files for this submission. Click the option for **`FTP or Aspera Command Line file preload`**.\n",
    "\n",
    "If you click on the **`+`** FTP upload instructions, you will see details. Add the `Username` and `Account folder` provided in these instructions to the [config.yml](config.yml) file as the values for the keys `ftp_username` and `ftp_account_folder` at the bottom of the file. Also, add a value for the key `ftp_subfolder` that is meaningful for this particular submission under the `barcode_runs` key. Finally, put the FTP password as plain text in a file called `ftp_password.txt` which is not tracked in this repo."
   ]
  },
  {
   "cell_type": "code",
   "execution_count": 24,
   "id": "0225392f",
   "metadata": {},
   "outputs": [
    {
     "name": "stdout",
     "output_type": "stream",
     "text": [
      "\n",
      "ftp_username: subftp\n",
      "ftp_account_folder: uploads/wwh22_uw.edu_e2LIS4RJ\n",
      "ftp_subfolder: MeV_SSPE_Sequencing\n",
      "\n",
      "ftp_password.txt Exists!\n"
     ]
    }
   ],
   "source": [
    "with open('config.yml') as f:\n",
    "    config = yaml.safe_load(f)\n",
    "    \n",
    "print(f\"\"\"\n",
    "ftp_username: {config['ftp_username']}\n",
    "ftp_account_folder: {config['ftp_account_folder']}\n",
    "ftp_subfolder: {config['ftp_subfolder']}\n",
    "\"\"\")\n",
    "\n",
    "if os.path.isfile('ftp_password.txt'):\n",
    "    print(\"ftp_password.txt Exists!\")\n",
    "else:\n",
    "    raise Exception(\"Make sure that ftp_password.txt exists in this directory.\")\n"
   ]
  },
  {
   "cell_type": "markdown",
   "id": "2d002607",
   "metadata": {},
   "source": [
    "---\n",
    "## Upload the sequencing data\n",
    "\n",
    "Now we need to upload the actual sequencing data. This is done by running the cells below. It first creates a very large `*.tar` file called `SRA_submission.tar` that contains all the `fastqs` specified in the Illumina Barcode metadata. \n",
    "\n",
    "**Run the cell below to make this file. This can take a bit.**"
   ]
  },
  {
   "cell_type": "code",
   "execution_count": 27,
   "id": "e08a9d44",
   "metadata": {},
   "outputs": [
    {
     "name": "stdout",
     "output_type": "stream",
     "text": [
      "Concatenating and Adding file 1 of 30 to SRA_submission.tar\n",
      "Concatenating and Adding file 10 of 30 to SRA_submission.tar\n",
      "Concatenating and Adding file 20 of 30 to SRA_submission.tar\n",
      "Concatenating and Adding file 30 of 30 to SRA_submission.tar\n",
      "Added all files to SRA_submission.tar\n",
      "\n",
      "Removing tmp directory.\n",
      "\n",
      "The size of SRA_submission.tar is 9.5 GB\n",
      "\n",
      "SRA_submission.tar contains all 30 expected files.\n",
      "\n",
      "Finished preparing the tar file for upload.\n"
     ]
    }
   ],
   "source": [
    "ftp_upload.make_tar_file(\"file_paths.csv\", \"SRA_submission.tar\")"
   ]
  },
  {
   "cell_type": "markdown",
   "id": "50e17cac",
   "metadata": {},
   "source": [
    "If the size of the `*.tar` file is what you expect, **run the chunk below to use FTP to upload the file to the SRA.** This can take a pretty long time to finish running, <strong style=color:red;>so if you have more than 5 gbs of data to upload, do not run this.</strong>"
   ]
  },
  {
   "cell_type": "code",
   "execution_count": 9,
   "id": "23c21ad2",
   "metadata": {},
   "outputs": [],
   "source": [
    "# ftp_upload.upload_via_ftp(tar_path=\"barcode_SRA_submission.tar\",\n",
    "#                ftp_username=config['ftp_username'],\n",
    "#                ftp_account_folder=config['ftp_account_folder'],\n",
    "#                ftp_subfolder=config['ftp_subfolder'],\n",
    "#                ftp_address='ftp-private.ncbi.nlm.nih.gov',\n",
    "#                ftp_password='ftp_password.txt'\n",
    "#               )"
   ]
  },
  {
   "cell_type": "markdown",
   "id": "8677db03",
   "metadata": {},
   "source": [
    "<strong style=color:red;>Instead, because this can take a very long time for large amounts of data, run this from the command line and submit to `slurm` as follows:</strong> \n",
    "\n",
    "```\n",
    "sbatch --wrap \"python utils/ftp_upload.py --config config.yml --sampletype illumina\" --time 2-0\n",
    "```"
   ]
  },
  {
   "cell_type": "markdown",
   "id": "6e9c101d",
   "metadata": {},
   "source": [
    "Now that the transfer has finished, **manually log into the FTP site to see the file and use** `ls` **to see the size of what has been transferred to make sure that it worked correctly.** "
   ]
  },
  {
   "cell_type": "markdown",
   "id": "82a541f0",
   "metadata": {},
   "source": [
    "Finally, return to the SRA submission webpage for the reads, and check the blue **`Select preload folder`** box. Note that you need to wait about 10 minutes for the pre-load folder to become visible. The click to select the folder you created (this is the `ftp_subfolder` defined in `config.yaml`) and click Use selected folder. Finally, check **`Autofinish submission`** box and hit Continue. You will get a warning that files are missing since you uploaded a `*.tar` archive; do not worry about this and just click **`Continue`**.\n",
    "\n",
    "The webpage will then indicate it is extracting files from the `*.tar`, so wait for this to finish. It should then show that your submission is complete and just waiting for processing."
   ]
  },
  {
   "cell_type": "markdown",
   "id": "2c95b4f9",
   "metadata": {},
   "source": [
    "You then probably want to delete the `barcodes_SRA_submission.tar` file as it is very large."
   ]
  },
  {
   "cell_type": "markdown",
   "id": "6bdb3a62",
   "metadata": {},
   "source": [
    "<h1 style=color:green;>&#127881; Congrats, you're done! &#127881;</h1>"
   ]
  }
 ],
 "metadata": {
  "kernelspec": {
   "display_name": "Python 3 (ipykernel)",
   "language": "python",
   "name": "python3"
  },
  "language_info": {
   "codemirror_mode": {
    "name": "ipython",
    "version": 3
   },
   "file_extension": ".py",
   "mimetype": "text/x-python",
   "name": "python",
   "nbconvert_exporter": "python",
   "pygments_lexer": "ipython3",
   "version": "3.9.13"
  }
 },
 "nbformat": 4,
 "nbformat_minor": 5
}
